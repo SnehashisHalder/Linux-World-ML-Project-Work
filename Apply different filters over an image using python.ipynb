{
 "cells": [
  {
   "cell_type": "code",
   "execution_count": 1,
   "id": "e927a309",
   "metadata": {},
   "outputs": [
    {
     "name": "stdout",
     "output_type": "stream",
     "text": [
      "Defaulting to user installation because normal site-packages is not writeable\n",
      "Requirement already satisfied: pillow in c:\\programdata\\anaconda3\\lib\\site-packages (9.4.0)\n"
     ]
    }
   ],
   "source": [
    "!pip install pillow"
   ]
  },
  {
   "cell_type": "code",
   "execution_count": 2,
   "id": "734623b4",
   "metadata": {},
   "outputs": [],
   "source": [
    "from PIL import Image, ImageFilter\n",
    "\n",
    "# Load the image\n",
    "img = Image.open('pic (2).jpg')\n",
    "\n",
    "# Apply Gaussian Blur\n",
    "gaussian_blur = img.filter(ImageFilter.GaussianBlur(5))\n",
    "\n",
    "# Apply Unsharp Mask\n",
    "unsharp_mask = img.filter(ImageFilter.UnsharpMask(radius=2, percent=150, threshold=3))\n",
    "\n",
    "# Apply Edge Enhance\n",
    "edge_enhance = img.filter(ImageFilter.EDGE_ENHANCE)\n",
    "\n",
    "# Apply Contour\n",
    "contour = img.filter(ImageFilter.CONTOUR)\n",
    "\n",
    "# Display the results\n",
    "gaussian_blur.show(title='Gaussian Blur')\n",
    "unsharp_mask.show(title='Unsharp Mask')\n",
    "edge_enhance.show(title='Edge Enhance')\n",
    "contour.show(title='Contour')\n"
   ]
  },
  {
   "cell_type": "code",
   "execution_count": null,
   "id": "1609b668",
   "metadata": {},
   "outputs": [],
   "source": []
  }
 ],
 "metadata": {
  "kernelspec": {
   "display_name": "Python 3 (ipykernel)",
   "language": "python",
   "name": "python3"
  },
  "language_info": {
   "codemirror_mode": {
    "name": "ipython",
    "version": 3
   },
   "file_extension": ".py",
   "mimetype": "text/x-python",
   "name": "python",
   "nbconvert_exporter": "python",
   "pygments_lexer": "ipython3",
   "version": "3.11.5"
  }
 },
 "nbformat": 4,
 "nbformat_minor": 5
}
