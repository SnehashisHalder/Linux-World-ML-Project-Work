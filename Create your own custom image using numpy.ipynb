{
 "cells": [
  {
   "cell_type": "code",
   "execution_count": 1,
   "id": "e4d1a51a",
   "metadata": {},
   "outputs": [],
   "source": [
    "import numpy as np\n",
    "import matplotlib.pyplot as plt\n",
    "import cv2\n"
   ]
  },
  {
   "cell_type": "code",
   "execution_count": 2,
   "id": "4c5e2d39",
   "metadata": {},
   "outputs": [],
   "source": [
    "# Create an empty image (black) with 3 channels (RGB) and size 256x256\n",
    "image = np.zeros((256, 256, 3), dtype=np.uint8)"
   ]
  },
  {
   "cell_type": "code",
   "execution_count": 3,
   "id": "e24f1e78",
   "metadata": {},
   "outputs": [],
   "source": [
    "# Create a gradient\n",
    "for i in range(256):\n",
    "    for j in range(256):\n",
    "        image[i, j] = [i, j, (i + j) // 2]"
   ]
  },
  {
   "cell_type": "code",
   "execution_count": 4,
   "id": "135794e4",
   "metadata": {},
   "outputs": [
    {
     "data": {
      "text/plain": [
       "array([[[  0,   0,   0],\n",
       "        [  0,   1,   0],\n",
       "        [  0,   2,   1],\n",
       "        ...,\n",
       "        [  0, 253, 126],\n",
       "        [  0, 254, 127],\n",
       "        [  0, 255, 127]],\n",
       "\n",
       "       [[  1,   0,   0],\n",
       "        [  1,   1,   1],\n",
       "        [  1,   2,   1],\n",
       "        ...,\n",
       "        [  1, 253, 127],\n",
       "        [  1, 254, 127],\n",
       "        [  1, 255, 128]],\n",
       "\n",
       "       [[  2,   0,   1],\n",
       "        [  2,   1,   1],\n",
       "        [  2,   2,   2],\n",
       "        ...,\n",
       "        [  2, 253, 127],\n",
       "        [  2, 254, 128],\n",
       "        [  2, 255, 128]],\n",
       "\n",
       "       ...,\n",
       "\n",
       "       [[253,   0, 126],\n",
       "        [253,   1, 127],\n",
       "        [253,   2, 127],\n",
       "        ...,\n",
       "        [253, 253, 253],\n",
       "        [253, 254, 253],\n",
       "        [253, 255, 254]],\n",
       "\n",
       "       [[254,   0, 127],\n",
       "        [254,   1, 127],\n",
       "        [254,   2, 128],\n",
       "        ...,\n",
       "        [254, 253, 253],\n",
       "        [254, 254, 254],\n",
       "        [254, 255, 254]],\n",
       "\n",
       "       [[255,   0, 127],\n",
       "        [255,   1, 128],\n",
       "        [255,   2, 128],\n",
       "        ...,\n",
       "        [255, 253, 254],\n",
       "        [255, 254, 254],\n",
       "        [255, 255, 255]]], dtype=uint8)"
      ]
     },
     "execution_count": 4,
     "metadata": {},
     "output_type": "execute_result"
    }
   ],
   "source": [
    "# Draw a red rectangle\n",
    "cv2.rectangle(image, (50, 50), (200, 200), (255, 0, 0), -1)"
   ]
  },
  {
   "cell_type": "code",
   "execution_count": 5,
   "id": "e29a4e74",
   "metadata": {},
   "outputs": [
    {
     "data": {
      "image/png": "[encoded data removed]",
      "text/plain": [
       "<Figure size 640x480 with 1 Axes>"
      ]
     },
     "metadata": {},
     "output_type": "display_data"
    }
   ],
   "source": [
    "# Display the image using Matplotlib\n",
    "plt.imshow(cv2.cvtColor(image, cv2.COLOR_BGR2RGB))\n",
    "plt.title('Custom Image')\n",
    "plt.axis('off')\n",
    "plt.show()"
   ]
  },
  {
   "cell_type": "code",
   "execution_count": null,
   "id": "ffe13bb5",
   "metadata": {},
   "outputs": [],
   "source": []
  }
 ],
 "metadata": {
  "kernelspec": {
   "display_name": "Python 3 (ipykernel)",
   "language": "python",
   "name": "python3"
  },
  "language_info": {
   "codemirror_mode": {
    "name": "ipython",
    "version": 3
   },
   "file_extension": ".py",
   "mimetype": "text/x-python",
   "name": "python",
   "nbconvert_exporter": "python",
   "pygments_lexer": "ipython3",
   "version": "3.11.5"
  }
 },
 "nbformat": 4,
 "nbformat_minor": 5
}
