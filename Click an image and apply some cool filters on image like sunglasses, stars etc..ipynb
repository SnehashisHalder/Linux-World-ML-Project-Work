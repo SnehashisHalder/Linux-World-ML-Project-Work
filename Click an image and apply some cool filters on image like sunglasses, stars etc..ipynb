{
 "cells": [
  {
   "cell_type": "code",
   "execution_count": 2,
   "id": "fc67e3e8",
   "metadata": {},
   "outputs": [],
   "source": [
    "#Click an image and apply some cool filters on image like sunglasses, stars etc."
   ]
  },
  {
   "cell_type": "code",
   "execution_count": 12,
   "id": "a2043c50",
   "metadata": {},
   "outputs": [
    {
     "name": "stdout",
     "output_type": "stream",
     "text": [
      "Defaulting to user installation because normal site-packages is not writeable\n",
      "Requirement already satisfied: opencv-python in c:\\users\\snehashis halder\\appdata\\roaming\\python\\python311\\site-packages (4.10.0.84)\n",
      "Requirement already satisfied: numpy>=1.21.2 in c:\\programdata\\anaconda3\\lib\\site-packages (from opencv-python) (1.24.3)\n"
     ]
    }
   ],
   "source": [
    "!pip install opencv-python"
   ]
  },
  {
   "cell_type": "code",
   "execution_count": 13,
   "id": "8f786e93",
   "metadata": {},
   "outputs": [
    {
     "name": "stdout",
     "output_type": "stream",
     "text": [
      "Defaulting to user installation because normal site-packages is not writeable\n",
      "Requirement already satisfied: opencv-python in c:\\users\\snehashis halder\\appdata\\roaming\\python\\python311\\site-packages (4.10.0.84)\n",
      "Requirement already satisfied: pillow in c:\\programdata\\anaconda3\\lib\\site-packages (9.4.0)\n",
      "Requirement already satisfied: numpy>=1.21.2 in c:\\programdata\\anaconda3\\lib\\site-packages (from opencv-python) (1.24.3)\n"
     ]
    }
   ],
   "source": [
    "!pip install opencv-python pillow"
   ]
  },
  {
   "cell_type": "code",
   "execution_count": 21,
   "id": "0b7d5820",
   "metadata": {},
   "outputs": [],
   "source": [
    "import cv2\n",
    "from PIL import Image, ImageDraw, ImageFont\n",
    "import random\n",
    "\n",
    "# Function to apply sunglasses filter\n",
    "def apply_sunglasses(image):\n",
    "    sunglasses = Image.open('sunglasses_PNG62.png').convert(\"RGBA\")\n",
    "    image.paste(sunglasses, (100, 100), sunglasses)\n",
    "    return image\n",
    "\n",
    "# Function to apply stars filter\n",
    "def apply_stars(image):\n",
    "    draw = ImageDraw.Draw(image)\n",
    "    font = ImageFont.truetype(\"arial.ttf\", 40)  # Use a font that supports Unicode\n",
    "    for _ in range(10):\n",
    "        x, y = random.randint(0, image.width), random.randint(0, image.height)\n",
    "        draw.text((x, y), \"★\", fill=\"yellow\", font=font)\n",
    "    return image\n",
    "\n",
    "# Capture image from webcam\n",
    "def capture_image():\n",
    "    cap = cv2.VideoCapture(0)\n",
    "    ret, frame = cap.read()\n",
    "    if ret:\n",
    "        cv2.imwrite('captured_image.jpg', frame)\n",
    "    cap.release()\n",
    "    cv2.destroyAllWindows()\n",
    "\n",
    "# Main function\n",
    "def main():\n",
    "    capture_image()\n",
    "    image = Image.open('captured_image.jpg').convert(\"RGBA\")\n",
    "    \n",
    "    # Apply filters\n",
    "    image = apply_sunglasses(image)\n",
    "    image = apply_stars(image)\n",
    "    \n",
    "    # Save and show the final image\n",
    "    image.save('filtered_image.png')\n",
    "    image.show()\n",
    "\n",
    "if __name__ == \"__main__\":\n",
    "    main()\n"
   ]
  },
  {
   "cell_type": "code",
   "execution_count": null,
   "id": "88bf33e0",
   "metadata": {},
   "outputs": [],
   "source": []
  }
 ],
 "metadata": {
  "kernelspec": {
   "display_name": "Python 3 (ipykernel)",
   "language": "python",
   "name": "python3"
  },
  "language_info": {
   "codemirror_mode": {
    "name": "ipython",
    "version": 3
   },
   "file_extension": ".py",
   "mimetype": "text/x-python",
   "name": "python",
   "nbconvert_exporter": "python",
   "pygments_lexer": "ipython3",
   "version": "3.11.5"
  }
 },
 "nbformat": 4,
 "nbformat_minor": 5
}
