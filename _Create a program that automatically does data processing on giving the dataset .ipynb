{
 "cells": [
  {
   "cell_type": "code",
   "execution_count": 1,
   "id": "e82689c7",
   "metadata": {},
   "outputs": [],
   "source": [
    "import numpy as np\n",
    "import pandas as pd\n",
    "import seaborn as sns\n",
    "import matplotlib.pyplot as plt\n",
    "%matplotlib inline\n",
    "from sklearn.pipeline import make_pipeline"
   ]
  },
  {
   "cell_type": "code",
   "execution_count": 2,
   "id": "dd0cabd8",
   "metadata": {},
   "outputs": [],
   "source": [
    "def load_data(file_path):\n",
    "    \"\"\"Load the dataset from a CSV file.\"\"\"\n",
    "    df = pd.read_csv(file_path)\n",
    "    return df"
   ]
  },
  {
   "cell_type": "code",
   "execution_count": 3,
   "id": "fffbc80e",
   "metadata": {},
   "outputs": [],
   "source": [
    "def clean_data(df):\n",
    "    \"\"\"Clean the dataset by removing missing values and filtering outliers.\"\"\"\n",
    "    # Remove rows with missing values\n",
    "    df = df.dropna()\n",
    "    \n",
    "    # Remove outliers (example: removing values outside 2.5th and 97.5th percentiles)\n",
    "    for column in df.select_dtypes(include=['float64', 'int64']).columns:\n",
    "        df = df[(df[column] >= df[column].quantile(0.025)) & (df[column] <= df[column].quantile(0.975))]\n",
    "    \n",
    "    return df"
   ]
  },
  {
   "cell_type": "code",
   "execution_count": 4,
   "id": "2405a3d7",
   "metadata": {},
   "outputs": [],
   "source": [
    "def analyze_data(df):\n",
    "    \"\"\"Perform basic analysis on the dataset.\"\"\"\n",
    "    print(\"Summary Statistics:\")\n",
    "    print(df.describe())\n",
    "    \n",
    "    print(\"\\nCorrelation Matrix:\")\n",
    "    print(df.corr())"
   ]
  },
  {
   "cell_type": "code",
   "execution_count": 8,
   "id": "0a36c749",
   "metadata": {},
   "outputs": [],
   "source": [
    "def visualize_data(df):\n",
    "    \"\"\"Visualize the dataset using Matplotlib and Seaborn.\"\"\"\n",
    "    # Scatter plot\n",
    "    plt.figure(figsize=(10, 6))\n",
    "    sns.scatterplot(data=df, x=df.columns[0], y=df.columns[1])\n",
    "    plt.title('Scatter Plot')\n",
    "    plt.xlabel(df.columns[0])\n",
    "    plt.ylabel(df.columns[1])\n",
    "    plt.show()\n",
    "    # Histogram\n",
    "    plt.figure(figsize=(10, 6))\n",
    "    df.hist(bins=30, figsize=(10, 6))\n",
    "    plt.suptitle('Histograms')\n",
    "    plt.show()\n",
    "    # Heatmap\n",
    "    plt.figure(figsize=(10, 6))\n",
    "    sns.heatmap(df.corr(), annot=True, cmap='coolwarm')\n",
    "    plt.title('Correlation Heatmap')\n",
    "    plt.show()"
   ]
  },
  {
   "cell_type": "code",
   "execution_count": 9,
   "id": "3e6fd2e9",
   "metadata": {},
   "outputs": [],
   "source": [
    "def main(file_path):\n",
    "    \"\"\"Main function to run the data processing steps.\"\"\"\n",
    "    df = load_data(file_path)\n",
    "    df = clean_data(df)\n",
    "    analyze_data(df)\n",
    "    visualize_data(df)\n",
    "    "
   ]
  },
  {
   "cell_type": "code",
   "execution_count": 10,
   "id": "2b9e2795",
   "metadata": {},
   "outputs": [],
   "source": [
    "\"\"\"Main function to run the data processing steps.\"\"\"\n",
    "pipe = make_pipeline(load_data,clean_data,analyze_data,visualize_data)"
   ]
  },
  {
   "cell_type": "code",
   "execution_count": 12,
   "id": "99a1a6b0",
   "metadata": {},
   "outputs": [],
   "source": [
    "import pickle"
   ]
  },
  {
   "cell_type": "code",
   "execution_count": 18,
   "id": "b5159d30",
   "metadata": {},
   "outputs": [],
   "source": [
    "pickle.dump(pipe,open('pipe.pkl','wb'))"
   ]
  },
  {
   "cell_type": "code",
   "execution_count": null,
   "id": "39ef3c60",
   "metadata": {},
   "outputs": [],
   "source": []
  }
 ],
 "metadata": {
  "kernelspec": {
   "display_name": "Python 3 (ipykernel)",
   "language": "python",
   "name": "python3"
  },
  "language_info": {
   "codemirror_mode": {
    "name": "ipython",
    "version": 3
   },
   "file_extension": ".py",
   "mimetype": "text/x-python",
   "name": "python",
   "nbconvert_exporter": "python",
   "pygments_lexer": "ipython3",
   "version": "3.11.5"
  }
 },
 "nbformat": 4,
 "nbformat_minor": 5
}
